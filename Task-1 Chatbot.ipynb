{
 "cells": [
  {
   "cell_type": "code",
   "execution_count": 1,
   "id": "dcb296b2",
   "metadata": {},
   "outputs": [],
   "source": [
    "import re"
   ]
  },
  {
   "cell_type": "code",
   "execution_count": 2,
   "id": "8cae6940",
   "metadata": {},
   "outputs": [],
   "source": [
    "response_rules = {\n",
    "    \"hello\": \"Hello! How can I assist you today?\",\n",
    "    \"who created you\": \"I was created by Princess Afra Tahaseen.\",\n",
    "    \"tell me a joke\": \"Sure, here's one: What do you get when you cross a snowman and a vampire? Frostbite!\",\n",
    "    \"what is the capital of japan\": \"The capital of Japan is Tokyo.\",\n",
    "    \"how to maintain a balanced diet\": \"Maintaining a balanced diet involves consuming a variety of fruits, vegetables, lean proteins, and whole grains. It's important to limit processed foods and sugary beverages.\",\n",
    "    \"how to stay safe during a pandemic\": \"During a pandemic, it's crucial to follow public health guidelines, such as wearing masks, practicing social distancing, and getting vaccinated. Staying informed from reliable sources is also important.\",\n",
    "    \"calculate the square root of 16\": \"The square root of 16 is 4.\",\n",
    "    \"what is artificial intelligence\": \"Artificial intelligence (AI) is a field of computer science that focuses on creating machines and software capable of intelligent behavior, such as learning and problem-solving.\",\n",
    "    \"how to improve sleep quality\": \"To improve sleep quality, maintain a consistent sleep schedule, create a comfortable sleep environment, and avoid stimulants like caffeine close to bedtime.\",\n",
    "    \"tell me a fascinating science fact\": \"Sure, here's one: Octopuses have three hearts – two pump blood to the gills, and one pumps it to the rest of the body!\",\n",
    "    \"what is climate change\": \"Climate change refers to long-term changes in the Earth's climate patterns. It's primarily driven by human activities like the burning of fossil fuels, leading to global warming and environmental impacts.\",\n",
    "}\n"
   ]
  },
  {
   "cell_type": "code",
   "execution_count": 3,
   "id": "f08e72af",
   "metadata": {},
   "outputs": [],
   "source": [
    "def get_response(user_input):\n",
    "    user_input = user_input.lower()\n",
    "    for pattern, response in response_rules.items():\n",
    "        if re.search(r'\\b' + re.escape(pattern) + r'\\b', user_input):\n",
    "            return response\n",
    "    return \"I'm not sure I understand. Please ask another question.\""
   ]
  },
  {
   "cell_type": "code",
   "execution_count": null,
   "id": "dd3b994b",
   "metadata": {},
   "outputs": [
    {
     "name": "stdout",
     "output_type": "stream",
     "text": [
      "Chatbot: Hello! I'm here to assist you. Type 'bye' to exit.\n",
      "You: what is the capital of japan\n",
      "Chatbot: The capital of Japan is Tokyo.\n",
      "You: how to maintain a balanced diet\n",
      "Chatbot: Maintaining a balanced diet involves consuming a variety of fruits, vegetables, lean proteins, and whole grains. It's important to limit processed foods and sugary beverages.\n",
      "You: how to stay safe during a pandemic\n",
      "Chatbot: During a pandemic, it's crucial to follow public health guidelines, such as wearing masks, practicing social distancing, and getting vaccinated. Staying informed from reliable sources is also important.\n",
      "You: calculate the square root of 16\n",
      "Chatbot: The square root of 16 is 4.\n",
      "You: what is artificial intelligence\n",
      "Chatbot: Artificial intelligence (AI) is a field of computer science that focuses on creating machines and software capable of intelligent behavior, such as learning and problem-solving.\n",
      "You: how to improve sleep quality\n",
      "Chatbot: To improve sleep quality, maintain a consistent sleep schedule, create a comfortable sleep environment, and avoid stimulants like caffeine close to bedtime.\n",
      "You: tell me a fascinating science fact\n",
      "Chatbot: Sure, here's one: Octopuses have three hearts – two pump blood to the gills, and one pumps it to the rest of the body!\n",
      "You: what is climate change\n",
      "Chatbot: Climate change refers to long-term changes in the Earth's climate patterns. It's primarily driven by human activities like the burning of fossil fuels, leading to global warming and environmental impacts.\n"
     ]
    }
   ],
   "source": [
    "print(\"Chatbot: Hello! I'm here to assist you. Type 'bye' to exit.\")\n",
    "while True:\n",
    "    user_input = input(\"You: \")\n",
    "    response = get_response(user_input)\n",
    "    print(\"Chatbot:\", response)\n",
    "\n",
    "    # Exit the chatbot if the user says 'bye'\n",
    "    if \"bye\" in user_input.lower():\n",
    "        break"
   ]
  },
  {
   "cell_type": "code",
   "execution_count": null,
   "id": "0a68104e",
   "metadata": {},
   "outputs": [],
   "source": []
  },
  {
   "cell_type": "code",
   "execution_count": null,
   "id": "e6b894fd",
   "metadata": {},
   "outputs": [],
   "source": []
  },
  {
   "cell_type": "code",
   "execution_count": null,
   "id": "4ea6a01a",
   "metadata": {},
   "outputs": [],
   "source": []
  }
 ],
 "metadata": {
  "kernelspec": {
   "display_name": "Python 3 (ipykernel)",
   "language": "python",
   "name": "python3"
  },
  "language_info": {
   "codemirror_mode": {
    "name": "ipython",
    "version": 3
   },
   "file_extension": ".py",
   "mimetype": "text/x-python",
   "name": "python",
   "nbconvert_exporter": "python",
   "pygments_lexer": "ipython3",
   "version": "3.9.12"
  }
 },
 "nbformat": 4,
 "nbformat_minor": 5
}
